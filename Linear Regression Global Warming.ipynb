{
 "cells": [
  {
   "cell_type": "code",
   "execution_count": 1,
   "metadata": {},
   "outputs": [],
   "source": [
    "import pandas as pd\n",
    "import numpy as np\n",
    "import matplotlib.pyplot as plt\n",
    "import math\n",
    "import os\n",
    "from sklearn.preprocessing import StandardScaler\n",
    "from sklearn.preprocessing import Imputer\n",
    "from sklearn.preprocessing import LabelEncoder\n",
    "from sklearn.linear_model import Ridge\n",
    "from sklearn.linear_model import Lasso\n",
    "from scipy.stats import zscore\n",
    "from statsmodels.formula.api import ols\n",
    "from sklearn.linear_model import LinearRegression"
   ]
  },
  {
   "cell_type": "code",
   "execution_count": 2,
   "metadata": {},
   "outputs": [],
   "source": [
    "dataset=pd.read_csv(\"GlobalWarming.csv\")"
   ]
  },
  {
   "cell_type": "code",
   "execution_count": 3,
   "metadata": {},
   "outputs": [
    {
     "data": {
      "text/html": [
       "<div>\n",
       "<style scoped>\n",
       "    .dataframe tbody tr th:only-of-type {\n",
       "        vertical-align: middle;\n",
       "    }\n",
       "\n",
       "    .dataframe tbody tr th {\n",
       "        vertical-align: top;\n",
       "    }\n",
       "\n",
       "    .dataframe thead th {\n",
       "        text-align: right;\n",
       "    }\n",
       "</style>\n",
       "<table border=\"1\" class=\"dataframe\">\n",
       "  <thead>\n",
       "    <tr style=\"text-align: right;\">\n",
       "      <th></th>\n",
       "      <th>Year</th>\n",
       "      <th>Month</th>\n",
       "      <th>MEI</th>\n",
       "      <th>CO2</th>\n",
       "      <th>CH4</th>\n",
       "      <th>N2O</th>\n",
       "      <th>CFC-11</th>\n",
       "      <th>CFC-12</th>\n",
       "      <th>TSI</th>\n",
       "      <th>Aerosols</th>\n",
       "      <th>Temp</th>\n",
       "    </tr>\n",
       "  </thead>\n",
       "  <tbody>\n",
       "    <tr>\n",
       "      <th>0</th>\n",
       "      <td>1983</td>\n",
       "      <td>5</td>\n",
       "      <td>2.556</td>\n",
       "      <td>345.96</td>\n",
       "      <td>1638.59</td>\n",
       "      <td>303.677</td>\n",
       "      <td>191.324</td>\n",
       "      <td>350.113</td>\n",
       "      <td>1366.1024</td>\n",
       "      <td>0.0863</td>\n",
       "      <td>0.109</td>\n",
       "    </tr>\n",
       "    <tr>\n",
       "      <th>1</th>\n",
       "      <td>1983</td>\n",
       "      <td>6</td>\n",
       "      <td>2.167</td>\n",
       "      <td>345.52</td>\n",
       "      <td>1633.71</td>\n",
       "      <td>303.746</td>\n",
       "      <td>192.057</td>\n",
       "      <td>351.848</td>\n",
       "      <td>1366.1208</td>\n",
       "      <td>0.0794</td>\n",
       "      <td>0.118</td>\n",
       "    </tr>\n",
       "    <tr>\n",
       "      <th>2</th>\n",
       "      <td>1983</td>\n",
       "      <td>7</td>\n",
       "      <td>1.741</td>\n",
       "      <td>344.15</td>\n",
       "      <td>1633.22</td>\n",
       "      <td>303.795</td>\n",
       "      <td>192.818</td>\n",
       "      <td>353.725</td>\n",
       "      <td>1366.2850</td>\n",
       "      <td>0.0731</td>\n",
       "      <td>0.137</td>\n",
       "    </tr>\n",
       "    <tr>\n",
       "      <th>3</th>\n",
       "      <td>1983</td>\n",
       "      <td>8</td>\n",
       "      <td>1.130</td>\n",
       "      <td>342.25</td>\n",
       "      <td>1631.35</td>\n",
       "      <td>303.839</td>\n",
       "      <td>193.602</td>\n",
       "      <td>355.633</td>\n",
       "      <td>1366.4202</td>\n",
       "      <td>0.0673</td>\n",
       "      <td>0.176</td>\n",
       "    </tr>\n",
       "    <tr>\n",
       "      <th>4</th>\n",
       "      <td>1983</td>\n",
       "      <td>9</td>\n",
       "      <td>0.428</td>\n",
       "      <td>340.17</td>\n",
       "      <td>1648.40</td>\n",
       "      <td>303.901</td>\n",
       "      <td>194.392</td>\n",
       "      <td>357.465</td>\n",
       "      <td>1366.2335</td>\n",
       "      <td>0.0619</td>\n",
       "      <td>0.149</td>\n",
       "    </tr>\n",
       "  </tbody>\n",
       "</table>\n",
       "</div>"
      ],
      "text/plain": [
       "   Year  Month    MEI     CO2      CH4      N2O   CFC-11   CFC-12        TSI  \\\n",
       "0  1983      5  2.556  345.96  1638.59  303.677  191.324  350.113  1366.1024   \n",
       "1  1983      6  2.167  345.52  1633.71  303.746  192.057  351.848  1366.1208   \n",
       "2  1983      7  1.741  344.15  1633.22  303.795  192.818  353.725  1366.2850   \n",
       "3  1983      8  1.130  342.25  1631.35  303.839  193.602  355.633  1366.4202   \n",
       "4  1983      9  0.428  340.17  1648.40  303.901  194.392  357.465  1366.2335   \n",
       "\n",
       "   Aerosols   Temp  \n",
       "0    0.0863  0.109  \n",
       "1    0.0794  0.118  \n",
       "2    0.0731  0.137  \n",
       "3    0.0673  0.176  \n",
       "4    0.0619  0.149  "
      ]
     },
     "execution_count": 3,
     "metadata": {},
     "output_type": "execute_result"
    }
   ],
   "source": [
    "dataset.head()"
   ]
  },
  {
   "cell_type": "code",
   "execution_count": 4,
   "metadata": {},
   "outputs": [
    {
     "data": {
      "text/plain": [
       "Year        0\n",
       "Month       0\n",
       "MEI         0\n",
       "CO2         0\n",
       "CH4         0\n",
       "N2O         0\n",
       "CFC-11      0\n",
       "CFC-12      0\n",
       "TSI         0\n",
       "Aerosols    0\n",
       "Temp        0\n",
       "dtype: int64"
      ]
     },
     "execution_count": 4,
     "metadata": {},
     "output_type": "execute_result"
    }
   ],
   "source": [
    "dataset.isnull().sum()"
   ]
  },
  {
   "cell_type": "code",
   "execution_count": 5,
   "metadata": {},
   "outputs": [],
   "source": [
    "def scatterplot(i,j):\n",
    "    sns.regplot(data=dataset,x=i,y=j)\n",
    "    plt.show()"
   ]
  },
  {
   "cell_type": "code",
   "execution_count": null,
   "metadata": {},
   "outputs": [],
   "source": []
  },
  {
   "cell_type": "markdown",
   "metadata": {},
   "source": [
    "# 1)\tFind the correlations between all the variables in the dataset except Date & Month. Which of the following independent variables is N2O highly correlated with (absolute correlation greater than 0.7)? "
   ]
  },
  {
   "cell_type": "code",
   "execution_count": 7,
   "metadata": {},
   "outputs": [],
   "source": [
    "dataset1=dataset.drop(['Year','Month'],axis=1)"
   ]
  },
  {
   "cell_type": "code",
   "execution_count": 48,
   "metadata": {},
   "outputs": [
    {
     "data": {
      "text/html": [
       "<div>\n",
       "<style scoped>\n",
       "    .dataframe tbody tr th:only-of-type {\n",
       "        vertical-align: middle;\n",
       "    }\n",
       "\n",
       "    .dataframe tbody tr th {\n",
       "        vertical-align: top;\n",
       "    }\n",
       "\n",
       "    .dataframe thead th {\n",
       "        text-align: right;\n",
       "    }\n",
       "</style>\n",
       "<table border=\"1\" class=\"dataframe\">\n",
       "  <thead>\n",
       "    <tr style=\"text-align: right;\">\n",
       "      <th></th>\n",
       "      <th>MEI</th>\n",
       "      <th>CO2</th>\n",
       "      <th>CH4</th>\n",
       "      <th>N2O</th>\n",
       "      <th>CFC-11</th>\n",
       "      <th>CFC-12</th>\n",
       "      <th>TSI</th>\n",
       "      <th>Aerosols</th>\n",
       "      <th>Temp</th>\n",
       "    </tr>\n",
       "  </thead>\n",
       "  <tbody>\n",
       "    <tr>\n",
       "      <th>MEI</th>\n",
       "      <td>1.000000</td>\n",
       "      <td>-0.695763</td>\n",
       "      <td>-0.717819</td>\n",
       "      <td>-0.708210</td>\n",
       "      <td>-0.510871</td>\n",
       "      <td>-0.695038</td>\n",
       "      <td>-0.343767</td>\n",
       "      <td>0.606440</td>\n",
       "      <td>-0.523402</td>\n",
       "    </tr>\n",
       "    <tr>\n",
       "      <th>CO2</th>\n",
       "      <td>-0.695763</td>\n",
       "      <td>1.000000</td>\n",
       "      <td>0.966421</td>\n",
       "      <td>0.999582</td>\n",
       "      <td>0.592578</td>\n",
       "      <td>0.936205</td>\n",
       "      <td>-0.230792</td>\n",
       "      <td>-0.923360</td>\n",
       "      <td>0.926002</td>\n",
       "    </tr>\n",
       "    <tr>\n",
       "      <th>CH4</th>\n",
       "      <td>-0.717819</td>\n",
       "      <td>0.966421</td>\n",
       "      <td>1.000000</td>\n",
       "      <td>0.969867</td>\n",
       "      <td>0.775792</td>\n",
       "      <td>0.993809</td>\n",
       "      <td>-0.139837</td>\n",
       "      <td>-0.908319</td>\n",
       "      <td>0.886081</td>\n",
       "    </tr>\n",
       "    <tr>\n",
       "      <th>N2O</th>\n",
       "      <td>-0.708210</td>\n",
       "      <td>0.999582</td>\n",
       "      <td>0.969867</td>\n",
       "      <td>1.000000</td>\n",
       "      <td>0.601325</td>\n",
       "      <td>0.940040</td>\n",
       "      <td>-0.217790</td>\n",
       "      <td>-0.921391</td>\n",
       "      <td>0.921673</td>\n",
       "    </tr>\n",
       "    <tr>\n",
       "      <th>CFC-11</th>\n",
       "      <td>-0.510871</td>\n",
       "      <td>0.592578</td>\n",
       "      <td>0.775792</td>\n",
       "      <td>0.601325</td>\n",
       "      <td>1.000000</td>\n",
       "      <td>0.837406</td>\n",
       "      <td>0.079979</td>\n",
       "      <td>-0.604559</td>\n",
       "      <td>0.530799</td>\n",
       "    </tr>\n",
       "    <tr>\n",
       "      <th>CFC-12</th>\n",
       "      <td>-0.695038</td>\n",
       "      <td>0.936205</td>\n",
       "      <td>0.993809</td>\n",
       "      <td>0.940040</td>\n",
       "      <td>0.837406</td>\n",
       "      <td>1.000000</td>\n",
       "      <td>-0.114560</td>\n",
       "      <td>-0.892012</td>\n",
       "      <td>0.862876</td>\n",
       "    </tr>\n",
       "    <tr>\n",
       "      <th>TSI</th>\n",
       "      <td>-0.343767</td>\n",
       "      <td>-0.230792</td>\n",
       "      <td>-0.139837</td>\n",
       "      <td>-0.217790</td>\n",
       "      <td>0.079979</td>\n",
       "      <td>-0.114560</td>\n",
       "      <td>1.000000</td>\n",
       "      <td>0.000354</td>\n",
       "      <td>-0.149729</td>\n",
       "    </tr>\n",
       "    <tr>\n",
       "      <th>Aerosols</th>\n",
       "      <td>0.606440</td>\n",
       "      <td>-0.923360</td>\n",
       "      <td>-0.908319</td>\n",
       "      <td>-0.921391</td>\n",
       "      <td>-0.604559</td>\n",
       "      <td>-0.892012</td>\n",
       "      <td>0.000354</td>\n",
       "      <td>1.000000</td>\n",
       "      <td>-0.968906</td>\n",
       "    </tr>\n",
       "    <tr>\n",
       "      <th>Temp</th>\n",
       "      <td>-0.523402</td>\n",
       "      <td>0.926002</td>\n",
       "      <td>0.886081</td>\n",
       "      <td>0.921673</td>\n",
       "      <td>0.530799</td>\n",
       "      <td>0.862876</td>\n",
       "      <td>-0.149729</td>\n",
       "      <td>-0.968906</td>\n",
       "      <td>1.000000</td>\n",
       "    </tr>\n",
       "  </tbody>\n",
       "</table>\n",
       "</div>"
      ],
      "text/plain": [
       "               MEI       CO2       CH4       N2O    CFC-11    CFC-12  \\\n",
       "MEI       1.000000 -0.695763 -0.717819 -0.708210 -0.510871 -0.695038   \n",
       "CO2      -0.695763  1.000000  0.966421  0.999582  0.592578  0.936205   \n",
       "CH4      -0.717819  0.966421  1.000000  0.969867  0.775792  0.993809   \n",
       "N2O      -0.708210  0.999582  0.969867  1.000000  0.601325  0.940040   \n",
       "CFC-11   -0.510871  0.592578  0.775792  0.601325  1.000000  0.837406   \n",
       "CFC-12   -0.695038  0.936205  0.993809  0.940040  0.837406  1.000000   \n",
       "TSI      -0.343767 -0.230792 -0.139837 -0.217790  0.079979 -0.114560   \n",
       "Aerosols  0.606440 -0.923360 -0.908319 -0.921391 -0.604559 -0.892012   \n",
       "Temp     -0.523402  0.926002  0.886081  0.921673  0.530799  0.862876   \n",
       "\n",
       "               TSI  Aerosols      Temp  \n",
       "MEI      -0.343767  0.606440 -0.523402  \n",
       "CO2      -0.230792 -0.923360  0.926002  \n",
       "CH4      -0.139837 -0.908319  0.886081  \n",
       "N2O      -0.217790 -0.921391  0.921673  \n",
       "CFC-11    0.079979 -0.604559  0.530799  \n",
       "CFC-12   -0.114560 -0.892012  0.862876  \n",
       "TSI       1.000000  0.000354 -0.149729  \n",
       "Aerosols  0.000354  1.000000 -0.968906  \n",
       "Temp     -0.149729 -0.968906  1.000000  "
      ]
     },
     "execution_count": 48,
     "metadata": {},
     "output_type": "execute_result"
    }
   ],
   "source": [
    "dataset1=dataset1.corr()\n",
    "dataset1"
   ]
  },
  {
   "cell_type": "code",
   "execution_count": 49,
   "metadata": {},
   "outputs": [
    {
     "name": "stdout",
     "output_type": "stream",
     "text": [
      "MEI          True\n",
      "CO2          True\n",
      "CH4          True\n",
      "N2O          True\n",
      "CFC-11      False\n",
      "CFC-12       True\n",
      "TSI         False\n",
      "Aerosols     True\n",
      "Temp         True\n",
      "Name: N2O, dtype: bool\n"
     ]
    }
   ],
   "source": [
    "a=abs(dataset1['N2O'])>0.7\n",
    "print(a)"
   ]
  },
  {
   "cell_type": "code",
   "execution_count": 50,
   "metadata": {},
   "outputs": [],
   "source": [
    "y=['CO2','CH4','CFC-12','Aerosols']"
   ]
  },
  {
   "cell_type": "code",
   "execution_count": 51,
   "metadata": {},
   "outputs": [
    {
     "data": {
      "image/png": "[encoded data removed]",
      "text/plain": [
       "<matplotlib.figure.Figure at 0xac686d908>"
      ]
     },
     "metadata": {},
     "output_type": "display_data"
    },
    {
     "data": {
      "image/png": "[encoded data removed]",
      "text/plain": [
       "<matplotlib.figure.Figure at 0xac2bc3e10>"
      ]
     },
     "metadata": {},
     "output_type": "display_data"
    },
    {
     "data": {
      "image/png": "[encoded data removed]",
      "text/plain": [
       "<matplotlib.figure.Figure at 0xac69dbcc0>"
      ]
     },
     "metadata": {},
     "output_type": "display_data"
    },
    {
     "data": {
      "image/png": "[encoded data removed]",
      "text/plain": [
       "<matplotlib.figure.Figure at 0xac2baedd8>"
      ]
     },
     "metadata": {},
     "output_type": "display_data"
    }
   ],
   "source": [
    "import matplotlib\n",
    "import matplotlib.pyplot as plt\n",
    "%matplotlib inline\n",
    "matplotlib.style.use('ggplot')\n",
    "for i in y:\n",
    "    plt.scatter(dataset1['N2O'], dataset1[i])\n",
    "    plt.show()"
   ]
  },
  {
   "cell_type": "markdown",
   "metadata": {},
   "source": [
    "# solution:CO2,CH4,CFC-12 "
   ]
  },
  {
   "cell_type": "markdown",
   "metadata": {},
   "source": [
    "# 2)What is Multicollinearity? Does Multicollinearity exist in this Data?\n"
   ]
  },
  {
   "cell_type": "markdown",
   "metadata": {},
   "source": [
    "Multicollinearity: If there is any relation between the independent variables then we name it as multicollinearity \n",
    "we use scatter and person correlation factor to check the multicollinearity\n",
    "Here in this data multicollinearity exists and it is bad to the model"
   ]
  },
  {
   "cell_type": "markdown",
   "metadata": {},
   "source": [
    "# 3)\tWhich variables are highly correlated with the Dependent Variable? Is Co-relation god or bad for the Model? Why?"
   ]
  },
  {
   "cell_type": "code",
   "execution_count": 52,
   "metadata": {},
   "outputs": [
    {
     "data": {
      "text/plain": [
       "MEI         False\n",
       "CO2          True\n",
       "CH4          True\n",
       "N2O          True\n",
       "CFC-11      False\n",
       "CFC-12       True\n",
       "TSI         False\n",
       "Aerosols     True\n",
       "Temp         True\n",
       "Name: Temp, dtype: bool"
      ]
     },
     "execution_count": 52,
     "metadata": {},
     "output_type": "execute_result"
    }
   ],
   "source": [
    "abs(dataset1['Temp'])>0.7"
   ]
  },
  {
   "cell_type": "code",
   "execution_count": 53,
   "metadata": {},
   "outputs": [
    {
     "data": {
      "image/png": "[encoded data removed]",
      "text/plain": [
       "<matplotlib.figure.Figure at 0xac7ebcef0>"
      ]
     },
     "metadata": {},
     "output_type": "display_data"
    },
    {
     "data": {
      "image/png": "[encoded data removed]",
      "text/plain": [
       "<matplotlib.figure.Figure at 0xac2c2f4e0>"
      ]
     },
     "metadata": {},
     "output_type": "display_data"
    },
    {
     "data": {
      "image/png": "[encoded data removed]",
      "text/plain": [
       "<matplotlib.figure.Figure at 0xabe6a4c88>"
      ]
     },
     "metadata": {},
     "output_type": "display_data"
    },
    {
     "data": {
      "image/png": "[encoded data removed]",
      "text/plain": [
       "<matplotlib.figure.Figure at 0xac698c6d8>"
      ]
     },
     "metadata": {},
     "output_type": "display_data"
    },
    {
     "data": {
      "image/png": "[encoded data removed]",
      "text/plain": [
       "<matplotlib.figure.Figure at 0xac7dc4908>"
      ]
     },
     "metadata": {},
     "output_type": "display_data"
    }
   ],
   "source": [
    "y=['CO2','CH4','N2O','CFC-12','Aerosols']\n",
    "for i in y:\n",
    "    plt.scatter(dataset1['Temp'], dataset1[i])\n",
    "    plt.show()"
   ]
  },
  {
   "cell_type": "markdown",
   "metadata": {},
   "source": [
    "highly correlated with the dependent variable -----Co2,Ch4,N20,CFC-12,Aerosols\n",
    "here the correlation is bad  for the model because the multicollinearity exists between "
   ]
  },
  {
   "cell_type": "markdown",
   "metadata": {},
   "source": [
    "# 4)\tWhat will be the prediction of a baseline Model? What will be its SSE, more commonly known as SST/TSS?"
   ]
  },
  {
   "cell_type": "code",
   "execution_count": 67,
   "metadata": {},
   "outputs": [
    {
     "name": "stdout",
     "output_type": "stream",
     "text": [
      "9.846455542207792\n"
     ]
    }
   ],
   "source": [
    "sstot = np.sum((y - ybar)**2)   \n",
    "print(sstot)"
   ]
  },
  {
   "cell_type": "markdown",
   "metadata": {},
   "source": [
    "By using baseline model the TSS=9.846455542207792"
   ]
  },
  {
   "cell_type": "code",
   "execution_count": 55,
   "metadata": {},
   "outputs": [],
   "source": [
    "X=dataset.drop('Temp',axis=1)"
   ]
  },
  {
   "cell_type": "code",
   "execution_count": 56,
   "metadata": {},
   "outputs": [],
   "source": [
    "y=dataset['Temp']"
   ]
  },
  {
   "cell_type": "code",
   "execution_count": 57,
   "metadata": {},
   "outputs": [
    {
     "name": "stdout",
     "output_type": "stream",
     "text": [
      "(308, 10)\n",
      "(308,)\n"
     ]
    }
   ],
   "source": [
    "print(X.shape)\n",
    "print(y.shape)"
   ]
  },
  {
   "cell_type": "markdown",
   "metadata": {},
   "source": [
    "# 5)\tBuild a linear regression model to predict the dependent variable Temp, using CO2, N2O, CFC.12, and Aerosols as independent variables. Find the RMSE, SSE and MAPE for the above Model. What is the model R2 (the \"Multiple R-squared\" value & Adjusted R2)."
   ]
  },
  {
   "cell_type": "code",
   "execution_count": 22,
   "metadata": {},
   "outputs": [
    {
     "name": "stderr",
     "output_type": "stream",
     "text": [
      "c:\\users\\hp 8.1\\anaconda3\\lib\\site-packages\\statsmodels\\compat\\pandas.py:56: FutureWarning: The pandas.core.datetools module is deprecated and will be removed in a future version. Please use the pandas.tseries module instead.\n",
      "  from pandas.core import datetools\n"
     ]
    }
   ],
   "source": [
    "import statsmodels.api as sm # Regression Library"
   ]
  },
  {
   "cell_type": "code",
   "execution_count": 37,
   "metadata": {},
   "outputs": [],
   "source": [
    "from statsmodels.formula.api import ols\n",
    "model1 = ols('Temp ~ CO2+N2O+CFC12F+Aerosols', data=dataset).fit()"
   ]
  },
  {
   "cell_type": "code",
   "execution_count": 38,
   "metadata": {},
   "outputs": [],
   "source": [
    "dataset.rename(columns={'CFC-12': 'CFC12F'},inplace=True)"
   ]
  },
  {
   "cell_type": "code",
   "execution_count": 39,
   "metadata": {},
   "outputs": [
    {
     "data": {
      "text/html": [
       "<table class=\"simpletable\">\n",
       "<caption>OLS Regression Results</caption>\n",
       "<tr>\n",
       "  <th>Dep. Variable:</th>          <td>Temp</td>       <th>  R-squared:         </th> <td>   0.596</td>\n",
       "</tr>\n",
       "<tr>\n",
       "  <th>Model:</th>                   <td>OLS</td>       <th>  Adj. R-squared:    </th> <td>   0.591</td>\n",
       "</tr>\n",
       "<tr>\n",
       "  <th>Method:</th>             <td>Least Squares</td>  <th>  F-statistic:       </th> <td>   111.9</td>\n",
       "</tr>\n",
       "<tr>\n",
       "  <th>Date:</th>             <td>Thu, 06 Dec 2018</td> <th>  Prob (F-statistic):</th> <td>1.81e-58</td>\n",
       "</tr>\n",
       "<tr>\n",
       "  <th>Time:</th>                 <td>13:17:52</td>     <th>  Log-Likelihood:    </th> <td>  232.93</td>\n",
       "</tr>\n",
       "<tr>\n",
       "  <th>No. Observations:</th>      <td>   308</td>      <th>  AIC:               </th> <td>  -455.9</td>\n",
       "</tr>\n",
       "<tr>\n",
       "  <th>Df Residuals:</th>          <td>   303</td>      <th>  BIC:               </th> <td>  -437.2</td>\n",
       "</tr>\n",
       "<tr>\n",
       "  <th>Df Model:</th>              <td>     4</td>      <th>                     </th>     <td> </td>   \n",
       "</tr>\n",
       "<tr>\n",
       "  <th>Covariance Type:</th>      <td>nonrobust</td>    <th>                     </th>     <td> </td>   \n",
       "</tr>\n",
       "</table>\n",
       "<table class=\"simpletable\">\n",
       "<tr>\n",
       "      <td></td>         <th>coef</th>     <th>std err</th>      <th>t</th>      <th>P>|t|</th>  <th>[0.025</th>    <th>0.975]</th>  \n",
       "</tr>\n",
       "<tr>\n",
       "  <th>Intercept</th> <td>   -2.9781</td> <td>    1.198</td> <td>   -2.485</td> <td> 0.013</td> <td>   -5.336</td> <td>   -0.620</td>\n",
       "</tr>\n",
       "<tr>\n",
       "  <th>CO2</th>       <td>    0.0060</td> <td>    0.003</td> <td>    2.242</td> <td> 0.026</td> <td>    0.001</td> <td>    0.011</td>\n",
       "</tr>\n",
       "<tr>\n",
       "  <th>N2O</th>       <td>    0.0022</td> <td>    0.007</td> <td>    0.320</td> <td> 0.749</td> <td>   -0.011</td> <td>    0.015</td>\n",
       "</tr>\n",
       "<tr>\n",
       "  <th>CFC12F</th>    <td>    0.0008</td> <td>    0.000</td> <td>    3.673</td> <td> 0.000</td> <td>    0.000</td> <td>    0.001</td>\n",
       "</tr>\n",
       "<tr>\n",
       "  <th>Aerosols</th>  <td>   -0.9362</td> <td>    0.244</td> <td>   -3.841</td> <td> 0.000</td> <td>   -1.416</td> <td>   -0.457</td>\n",
       "</tr>\n",
       "</table>\n",
       "<table class=\"simpletable\">\n",
       "<tr>\n",
       "  <th>Omnibus:</th>       <td> 5.792</td> <th>  Durbin-Watson:     </th> <td>   0.555</td>\n",
       "</tr>\n",
       "<tr>\n",
       "  <th>Prob(Omnibus):</th> <td> 0.055</td> <th>  Jarque-Bera (JB):  </th> <td>   6.779</td>\n",
       "</tr>\n",
       "<tr>\n",
       "  <th>Skew:</th>          <td> 0.181</td> <th>  Prob(JB):          </th> <td>  0.0337</td>\n",
       "</tr>\n",
       "<tr>\n",
       "  <th>Kurtosis:</th>      <td> 3.630</td> <th>  Cond. No.          </th> <td>1.27e+05</td>\n",
       "</tr>\n",
       "</table>"
      ],
      "text/plain": [
       "<class 'statsmodels.iolib.summary.Summary'>\n",
       "\"\"\"\n",
       "                            OLS Regression Results                            \n",
       "==============================================================================\n",
       "Dep. Variable:                   Temp   R-squared:                       0.596\n",
       "Model:                            OLS   Adj. R-squared:                  0.591\n",
       "Method:                 Least Squares   F-statistic:                     111.9\n",
       "Date:                Thu, 06 Dec 2018   Prob (F-statistic):           1.81e-58\n",
       "Time:                        13:17:52   Log-Likelihood:                 232.93\n",
       "No. Observations:                 308   AIC:                            -455.9\n",
       "Df Residuals:                     303   BIC:                            -437.2\n",
       "Df Model:                           4                                         \n",
       "Covariance Type:            nonrobust                                         \n",
       "==============================================================================\n",
       "                 coef    std err          t      P>|t|      [0.025      0.975]\n",
       "------------------------------------------------------------------------------\n",
       "Intercept     -2.9781      1.198     -2.485      0.013      -5.336      -0.620\n",
       "CO2            0.0060      0.003      2.242      0.026       0.001       0.011\n",
       "N2O            0.0022      0.007      0.320      0.749      -0.011       0.015\n",
       "CFC12F         0.0008      0.000      3.673      0.000       0.000       0.001\n",
       "Aerosols      -0.9362      0.244     -3.841      0.000      -1.416      -0.457\n",
       "==============================================================================\n",
       "Omnibus:                        5.792   Durbin-Watson:                   0.555\n",
       "Prob(Omnibus):                  0.055   Jarque-Bera (JB):                6.779\n",
       "Skew:                           0.181   Prob(JB):                       0.0337\n",
       "Kurtosis:                       3.630   Cond. No.                     1.27e+05\n",
       "==============================================================================\n",
       "\n",
       "Warnings:\n",
       "[1] Standard Errors assume that the covariance matrix of the errors is correctly specified.\n",
       "[2] The condition number is large, 1.27e+05. This might indicate that there are\n",
       "strong multicollinearity or other numerical problems.\n",
       "\"\"\""
      ]
     },
     "execution_count": 39,
     "metadata": {},
     "output_type": "execute_result"
    }
   ],
   "source": [
    "model1.summary()"
   ]
  },
  {
   "cell_type": "code",
   "execution_count": 40,
   "metadata": {},
   "outputs": [],
   "source": [
    "y_pred=model1.predict()"
   ]
  },
  {
   "cell_type": "code",
   "execution_count": 59,
   "metadata": {},
   "outputs": [
    {
     "name": "stdout",
     "output_type": "stream",
     "text": [
      "0.08830130912143315\n"
     ]
    }
   ],
   "source": [
    "from sklearn.metrics import mean_absolute_error\n",
    "mae=mean_absolute_error(y_pred,y)\n",
    "print(mae)"
   ]
  },
  {
   "cell_type": "code",
   "execution_count": 60,
   "metadata": {},
   "outputs": [
    {
     "name": "stdout",
     "output_type": "stream",
     "text": [
      "159.49003764898617\n"
     ]
    }
   ],
   "source": [
    "mape=np.mean(np.abs((y - y_pred) / y)) * 100\n",
    "print(mape)"
   ]
  },
  {
   "cell_type": "code",
   "execution_count": 61,
   "metadata": {},
   "outputs": [
    {
     "name": "stdout",
     "output_type": "stream",
     "text": [
      "1.262893652090255\n"
     ]
    }
   ],
   "source": [
    "rmse=np.sqrt(np.mean(np.abs((y - y_pred) / y)))\n",
    "print(rmse)"
   ]
  },
  {
   "cell_type": "code",
   "execution_count": 62,
   "metadata": {},
   "outputs": [
    {
     "name": "stdout",
     "output_type": "stream",
     "text": [
      "0.012901885489799021\n"
     ]
    }
   ],
   "source": [
    "from sklearn.metrics import mean_squared_error\n",
    "mse=mean_squared_error(y_pred,y)\n",
    "print(mse)"
   ]
  },
  {
   "cell_type": "markdown",
   "metadata": {},
   "source": [
    "\n",
    "\n",
    "# 6)\tCalculate R2 value manually using the formulae for R2. Both should match."
   ]
  },
  {
   "cell_type": "code",
   "execution_count": 63,
   "metadata": {},
   "outputs": [
    {
     "name": "stdout",
     "output_type": "stream",
     "text": [
      "0.5964252604580307\n"
     ]
    }
   ],
   "source": [
    "results=[]\n",
    "ybar = np.sum(y)/len(y)          \n",
    "ssreg = np.sum((y_pred-ybar)**2)  \n",
    "sstot = np.sum((y - ybar)**2)   \n",
    "results = ssreg / sstot\n",
    "print(results)"
   ]
  },
  {
   "cell_type": "markdown",
   "metadata": {},
   "source": [
    "# 7)\tFind the correlation between the actual & predicted values of Temp. Square this number and you should get the Multiple R2. This is another quick way to compute R2. ( R2= correlation(actual, predicted values)^2)"
   ]
  },
  {
   "cell_type": "code",
   "execution_count": 64,
   "metadata": {},
   "outputs": [
    {
     "data": {
      "image/png": "[encoded data removed]",
      "text/plain": [
       "<matplotlib.figure.Figure at 0xac6ab44e0>"
      ]
     },
     "metadata": {},
     "output_type": "display_data"
    }
   ],
   "source": [
    "plt.scatter(y_pred, y)\n",
    "plt.show()"
   ]
  },
  {
   "cell_type": "code",
   "execution_count": 65,
   "metadata": {},
   "outputs": [
    {
     "name": "stdout",
     "output_type": "stream",
     "text": [
      "[[1.         0.77228574]\n",
      " [0.77228574 1.        ]]\n"
     ]
    }
   ],
   "source": [
    "a=np.corrcoef(y_pred,y)\n",
    "print(a)"
   ]
  },
  {
   "cell_type": "code",
   "execution_count": 66,
   "metadata": {},
   "outputs": [
    {
     "name": "stdout",
     "output_type": "stream",
     "text": [
      "0.5964252604580301\n"
     ]
    }
   ],
   "source": [
    "Multiple_r2=np.square(a[0][1])\n",
    "print(Multiple_r2)"
   ]
  },
  {
   "cell_type": "markdown",
   "metadata": {},
   "source": [
    "# 8)\tWhat is the Hypothesis test in case of a Linear Regression?"
   ]
  },
  {
   "cell_type": "markdown",
   "metadata": {},
   "source": [
    "Linear Regression y=Bo+B1x\n",
    "\n",
    "we use hypothesis testing is their any significant relation between between the independent variable and dependent variable\n",
    "the slope of the line will tell that information\n",
    "\n",
    "Null Hypothesis:B1=0\n",
    "Alternate Hypothesis:B1!=0"
   ]
  },
  {
   "cell_type": "markdown",
   "metadata": {},
   "source": [
    "# 9)\tWhat do the P values represent? Do we look for low or High P values? Why?"
   ]
  },
  {
   "cell_type": "markdown",
   "metadata": {},
   "source": [
    "P-values describes the area under the curve.We look for values which are less than 0.05 if the values are above 0.05 we simple delete those columns based on their VIF value consideration"
   ]
  },
  {
   "cell_type": "markdown",
   "metadata": {},
   "source": [
    "# 10)\tWhat is an F Test in Linear Regression? Discuss."
   ]
  },
  {
   "cell_type": "markdown",
   "metadata": {},
   "source": [
    "F test can do multiple regression coefficients so that it helps us whether to reject the null hypothesis or fails to rejected the null hypothesis"
   ]
  },
  {
   "cell_type": "code",
   "execution_count": null,
   "metadata": {},
   "outputs": [],
   "source": []
  },
  {
   "cell_type": "code",
   "execution_count": null,
   "metadata": {},
   "outputs": [],
   "source": []
  }
 ],
 "metadata": {
  "kernelspec": {
   "display_name": "Python 3",
   "language": "python",
   "name": "python3"
  },
  "language_info": {
   "codemirror_mode": {
    "name": "ipython",
    "version": 3
   },
   "file_extension": ".py",
   "mimetype": "text/x-python",
   "name": "python",
   "nbconvert_exporter": "python",
   "pygments_lexer": "ipython3",
   "version": "3.6.4"
  }
 },
 "nbformat": 4,
 "nbformat_minor": 2
}
